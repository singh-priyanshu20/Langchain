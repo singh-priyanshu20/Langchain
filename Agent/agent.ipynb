{
 "cells": [
  {
   "cell_type": "code",
   "execution_count": null,
   "metadata": {},
   "outputs": [],
   "source": [
    "# LangChain Tools Overview:\n",
    "# - Tools allow LLMs to interact with external sources like search engines, databases, and APIs.\n",
    "# - Common Built-in Tools:\n",
    "#   - SerpAPIWrapper → Fetches real-time Google search results.\n",
    "#   - ArxivAPIWrapper → Retrieves latest research papers from ArXiv.\n",
    "#   - WikipediaAPIWrapper → Fetches Wikipedia articles for general knowledge.\n",
    "# - Custom tools can be created using @tool decorator or Tool() class.\n",
    "# - Tools can be integrated into an agent to allow dynamic selection based on user queries.\n"
   ]
  },
  {
   "cell_type": "code",
   "execution_count": null,
   "metadata": {},
   "outputs": [],
   "source": [
    "from langchain_community.tools import WikipediaQueryRun \n",
    "from langchain_community.utilities import WikipediaAPIWrapper "
   ]
  },
  {
   "cell_type": "code",
   "execution_count": null,
   "metadata": {},
   "outputs": [],
   "source": [
    "api_wrapper=WikipediaAPIWrapper(top_k_results=1,doc_content_chars_max=150)\n",
    "wiki=WikipediaQueryRun(api_wrapper=api_wrapper)"
   ]
  },
  {
   "cell_type": "code",
   "execution_count": null,
   "metadata": {},
   "outputs": [],
   "source": [
    "wiki.name"
   ]
  },
  {
   "cell_type": "code",
   "execution_count": null,
   "metadata": {},
   "outputs": [],
   "source": [
    "from langchain_community.document_loaders import  WebBaseLoader\n",
    "from langchain_community.vectorstores import FAISS \n",
    "from langchain_text_splitters import RecursiveCharacterTextSplitter \n",
    "from langchain_community.embeddings import OllamaEmbeddings\n",
    "\n",
    "embeddings=OllamaEmbeddings(model=\"llama3.2\")\n",
    "loader=WebBaseLoader(\"https://docs.smith.langchain.com/\")\n",
    "docs=loader.load()\n",
    "documents=RecursiveCharacterTextSplitter(chunk_size=1000,chunk_overlap=200).split_documents(docs)\n",
    "vectordb=FAISS.from_documents(documents,embeddings)\n",
    "retriever=vectordb.as_retriever()\n",
    "retriever "
   ]
  },
  {
   "cell_type": "code",
   "execution_count": null,
   "metadata": {},
   "outputs": [],
   "source": [
    "from langchain.tools.retriever import create_retriever_tool \n",
    "retriever_tool=create_retriever_tool(retriever,\"langsmith_search\",\n",
    "                \"Search for information about LangSmith. For any questions about LangSmith, you must use this tool!\")\n"
   ]
  },
  {
   "cell_type": "code",
   "execution_count": null,
   "metadata": {},
   "outputs": [],
   "source": [
    "retriever_tool.name "
   ]
  },
  {
   "cell_type": "code",
   "execution_count": null,
   "metadata": {},
   "outputs": [],
   "source": [
    "#Arxiv tool \n",
    "\n",
    "from langchain_community.utilities import ArxivAPIWrapper \n",
    "from langchain_community.tools import ArxivQueryRun \n",
    "\n",
    "arxiv_wrapper=ArxivAPIWrapper(top_k_results=1, doc_content_chars_max=200)\n",
    "arxiv=ArxivQueryRun(api_wrapper=arxiv_wrapper)\n",
    "arxiv.name"
   ]
  },
  {
   "cell_type": "code",
   "execution_count": null,
   "metadata": {},
   "outputs": [],
   "source": [
    "# MultiSearch Agent RAG Overview:\n",
    "# - Uses multiple search tools (Wikipedia, ArXiv, Retriever Tool) to fetch relevant data.\n",
    "# - WikipediaAPIWrapper → Retrieves general knowledge from Wikipedia.\n",
    "# - ArxivAPIWrapper → Fetches latest research papers from ArXiv.\n",
    "# - Retriever Tool → Retrieves domain-specific documents from a vector database (e.g., LanceDB).\n",
    "# - LangChain Agent dynamically selects the best tool based on query type.\n",
    "# - Enhances LLM responses with real-world, research-based, and domain-specific knowledge.\n",
    "# - Helps reduce hallucinations and improves answer accuracy in RAG-based systems.\n"
   ]
  },
  {
   "cell_type": "code",
   "execution_count": null,
   "metadata": {},
   "outputs": [],
   "source": [
    "tools=[wiki,arxiv,retriever_tool]"
   ]
  },
  {
   "cell_type": "code",
   "execution_count": null,
   "metadata": {},
   "outputs": [],
   "source": [
    "tools"
   ]
  },
  {
   "cell_type": "code",
   "execution_count": null,
   "metadata": {},
   "outputs": [],
   "source": [
    "from dotenv import load_dotenv\n",
    "\n",
    "load_dotenv()\n",
    "import os\n",
    "os.environ['OPENAI_API_KEY']=os.getenv(\"OPENAI_API_KEY\")\n",
    "from langchain_openai import ChatOpenAI\n",
    "\n",
    "llm = ChatOpenAI(model=\"gpt-3.5-turbo-0125\", temperature=0)"
   ]
  },
  {
   "cell_type": "code",
   "execution_count": null,
   "metadata": {},
   "outputs": [],
   "source": [
    "from langchain import hub \n",
    "# Get the prompt to use - you can modify this!\n",
    "prompt = hub.pull(\"hwchase17/openai-functions-agent\")\n",
    "prompt.messages\n"
   ]
  },
  {
   "cell_type": "code",
   "execution_count": null,
   "metadata": {},
   "outputs": [],
   "source": [
    "# LangChain Agents Overview:\n",
    "# - Agents dynamically decide which tool to use based on the query.\n",
    "# - They analyze input, select the right tool (e.g., Wikipedia, ArXiv, Retriever), and process results.\n",
    "# - Useful for multi-search RAG systems where different sources provide diverse information.\n",
    "# - Reduce hallucinations by retrieving real-time or factual data before generating responses.\n",
    "# - `AgentExecutor` runs the agent, allowing it to call tools and return enriched answers.\n",
    "# - Works well with LLMs (e.g., OpenAI, Ollama's Gemma 3B) to improve response accuracy.\n"
   ]
  },
  {
   "cell_type": "code",
   "execution_count": null,
   "metadata": {},
   "outputs": [],
   "source": [
    "from langchain.agents import create_openai_tools_agent\n",
    "\n",
    "agent=create_openai_tools_agent(llm, tools, prompt)\n"
   ]
  },
  {
   "cell_type": "code",
   "execution_count": null,
   "metadata": {},
   "outputs": [],
   "source": [
    "##Agent  executor\n",
    "from langchain.agents import AgentExecutor \n",
    "\n",
    "agent_executor= AgentExecutor(agent=agent, tools=tools, verbose=True)\n",
    "agent_executor "
   ]
  },
  {
   "cell_type": "code",
   "execution_count": null,
   "metadata": {},
   "outputs": [],
   "source": [
    "agent_executor.invoke({\"input\":\"Tell me about Langsmith\"})"
   ]
  }
 ],
 "metadata": {
  "kernelspec": {
   "display_name": "Python (lang_env)",
   "language": "python",
   "name": "lang_env"
  },
  "language_info": {
   "codemirror_mode": {
    "name": "ipython",
    "version": 3
   },
   "file_extension": ".py",
   "mimetype": "text/x-python",
   "name": "python",
   "nbconvert_exporter": "python",
   "pygments_lexer": "ipython3",
   "version": "3.9.21"
  }
 },
 "nbformat": 4,
 "nbformat_minor": 2
}
