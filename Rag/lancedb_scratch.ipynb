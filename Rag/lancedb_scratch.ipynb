{
 "cells": [
  {
   "cell_type": "markdown",
   "metadata": {},
   "source": [
    "🔹 What is LanceDB?\n",
    "\n",
    "LanceDB is a lightweight, high-performance vector database designed for fast similarity search using Apache Arrow storage format.\n",
    "\n",
    "✅ Why Use LanceDB?\n",
    "\n",
    "Fast & Efficient: Uses Apache Arrow for quick reads & writes.\n",
    "\n",
    "Local & Cloud Support: Works with local storage and cloud platforms (S3, GCS, Azure).\n",
    "\n",
    "Metadata Filtering: Enables hybrid search using metadata + vector embeddings.\n",
    "\n",
    "Supports HNSW Indexing for scalable vector search."
   ]
  },
  {
   "cell_type": "code",
   "execution_count": 2,
   "metadata": {},
   "outputs": [
    {
     "name": "stderr",
     "output_type": "stream",
     "text": [
      "C:\\Users\\thaku\\anaconda3\\envs\\lang_env\\lib\\site-packages\\tqdm\\auto.py:21: TqdmWarning: IProgress not found. Please update jupyter and ipywidgets. See https://ipywidgets.readthedocs.io/en/stable/user_install.html\n",
      "  from .autonotebook import tqdm as notebook_tqdm\n"
     ]
    }
   ],
   "source": [
    "import lancedb \n",
    "import pandas as pd \n",
    "import numpy as np"
   ]
  },
  {
   "cell_type": "code",
   "execution_count": 3,
   "metadata": {},
   "outputs": [],
   "source": [
    "#create a database directory \n",
    "db=lancedb.connect(\"./my_lancedb\")\n"
   ]
  },
  {
   "cell_type": "code",
   "execution_count": 5,
   "metadata": {},
   "outputs": [],
   "source": [
    "#create sample vector embeddings (100 vectors of size 128)\n",
    "\n",
    "data=pd.DataFrame({\n",
    "    \"id\":range(100),\n",
    "    \"vector\":[np.random.rand(128).tolist()  for _ in range(100)],\n",
    "    \"text\":[f\"Document {i}\" for i in range(100)]\n",
    "})"
   ]
  },
  {
   "cell_type": "code",
   "execution_count": 6,
   "metadata": {},
   "outputs": [
    {
     "data": {
      "text/html": [
       "<div>\n",
       "<style scoped>\n",
       "    .dataframe tbody tr th:only-of-type {\n",
       "        vertical-align: middle;\n",
       "    }\n",
       "\n",
       "    .dataframe tbody tr th {\n",
       "        vertical-align: top;\n",
       "    }\n",
       "\n",
       "    .dataframe thead th {\n",
       "        text-align: right;\n",
       "    }\n",
       "</style>\n",
       "<table border=\"1\" class=\"dataframe\">\n",
       "  <thead>\n",
       "    <tr style=\"text-align: right;\">\n",
       "      <th></th>\n",
       "      <th>id</th>\n",
       "      <th>vector</th>\n",
       "      <th>text</th>\n",
       "    </tr>\n",
       "  </thead>\n",
       "  <tbody>\n",
       "    <tr>\n",
       "      <th>0</th>\n",
       "      <td>0</td>\n",
       "      <td>[0.6556539185489961, 0.14354633177002707, 0.10...</td>\n",
       "      <td>Document 0</td>\n",
       "    </tr>\n",
       "    <tr>\n",
       "      <th>1</th>\n",
       "      <td>1</td>\n",
       "      <td>[0.33022824733496425, 0.09385907244657055, 0.8...</td>\n",
       "      <td>Document 1</td>\n",
       "    </tr>\n",
       "    <tr>\n",
       "      <th>2</th>\n",
       "      <td>2</td>\n",
       "      <td>[0.686507699282665, 0.2267776718039155, 0.6019...</td>\n",
       "      <td>Document 2</td>\n",
       "    </tr>\n",
       "    <tr>\n",
       "      <th>3</th>\n",
       "      <td>3</td>\n",
       "      <td>[0.6596477018193583, 0.3913487887649575, 0.259...</td>\n",
       "      <td>Document 3</td>\n",
       "    </tr>\n",
       "    <tr>\n",
       "      <th>4</th>\n",
       "      <td>4</td>\n",
       "      <td>[0.13748603576643081, 0.5588817867592942, 0.18...</td>\n",
       "      <td>Document 4</td>\n",
       "    </tr>\n",
       "    <tr>\n",
       "      <th>...</th>\n",
       "      <td>...</td>\n",
       "      <td>...</td>\n",
       "      <td>...</td>\n",
       "    </tr>\n",
       "    <tr>\n",
       "      <th>95</th>\n",
       "      <td>95</td>\n",
       "      <td>[0.4028959235908124, 0.34738282941454457, 0.73...</td>\n",
       "      <td>Document 95</td>\n",
       "    </tr>\n",
       "    <tr>\n",
       "      <th>96</th>\n",
       "      <td>96</td>\n",
       "      <td>[0.8617890065790046, 0.09130835586531005, 0.87...</td>\n",
       "      <td>Document 96</td>\n",
       "    </tr>\n",
       "    <tr>\n",
       "      <th>97</th>\n",
       "      <td>97</td>\n",
       "      <td>[0.6651351804320706, 0.7636460254080883, 0.039...</td>\n",
       "      <td>Document 97</td>\n",
       "    </tr>\n",
       "    <tr>\n",
       "      <th>98</th>\n",
       "      <td>98</td>\n",
       "      <td>[0.1162755960476407, 0.006091737655898433, 0.1...</td>\n",
       "      <td>Document 98</td>\n",
       "    </tr>\n",
       "    <tr>\n",
       "      <th>99</th>\n",
       "      <td>99</td>\n",
       "      <td>[0.5445158197554081, 0.5612377028080896, 0.769...</td>\n",
       "      <td>Document 99</td>\n",
       "    </tr>\n",
       "  </tbody>\n",
       "</table>\n",
       "<p>100 rows × 3 columns</p>\n",
       "</div>"
      ],
      "text/plain": [
       "    id                                             vector         text\n",
       "0    0  [0.6556539185489961, 0.14354633177002707, 0.10...   Document 0\n",
       "1    1  [0.33022824733496425, 0.09385907244657055, 0.8...   Document 1\n",
       "2    2  [0.686507699282665, 0.2267776718039155, 0.6019...   Document 2\n",
       "3    3  [0.6596477018193583, 0.3913487887649575, 0.259...   Document 3\n",
       "4    4  [0.13748603576643081, 0.5588817867592942, 0.18...   Document 4\n",
       "..  ..                                                ...          ...\n",
       "95  95  [0.4028959235908124, 0.34738282941454457, 0.73...  Document 95\n",
       "96  96  [0.8617890065790046, 0.09130835586531005, 0.87...  Document 96\n",
       "97  97  [0.6651351804320706, 0.7636460254080883, 0.039...  Document 97\n",
       "98  98  [0.1162755960476407, 0.006091737655898433, 0.1...  Document 98\n",
       "99  99  [0.5445158197554081, 0.5612377028080896, 0.769...  Document 99\n",
       "\n",
       "[100 rows x 3 columns]"
      ]
     },
     "execution_count": 6,
     "metadata": {},
     "output_type": "execute_result"
    }
   ],
   "source": [
    "data"
   ]
  },
  {
   "cell_type": "code",
   "execution_count": 7,
   "metadata": {},
   "outputs": [
    {
     "name": "stdout",
     "output_type": "stream",
     "text": [
      "Database Created\n"
     ]
    }
   ],
   "source": [
    "#create a table and insert data \n",
    "table=db.create_table(\"my_table\", data)\n",
    "print(\"Database Created\")"
   ]
  },
  {
   "cell_type": "code",
   "execution_count": 11,
   "metadata": {},
   "outputs": [
    {
     "data": {
      "text/plain": [
       "LanceTable(name='my_table', version=1, _conn=LanceDBConnection(uri='c:\\\\Users\\\\thaku\\\\Langchain\\\\Rag\\\\my_lancedb'))"
      ]
     },
     "execution_count": 11,
     "metadata": {},
     "output_type": "execute_result"
    }
   ],
   "source": [
    "table"
   ]
  },
  {
   "cell_type": "code",
   "execution_count": 12,
   "metadata": {},
   "outputs": [
    {
     "name": "stdout",
     "output_type": "stream",
     "text": [
      "   id                                             vector         text  \\\n",
      "0  34  [0.0050523463, 0.17449492, 0.25296238, 0.34711...  Document 34   \n",
      "1  85  [0.6118548, 0.7615207, 0.8241931, 0.73986316, ...  Document 85   \n",
      "2  39  [0.031372502, 0.6180652, 0.23412517, 0.1235939...  Document 39   \n",
      "3  11  [0.6356514, 0.3318761, 0.32781395, 0.42966428,...  Document 11   \n",
      "4  45  [0.2028191, 0.48757368, 0.033598285, 0.6999477...  Document 45   \n",
      "\n",
      "   _distance  \n",
      "0  14.993999  \n",
      "1  17.283613  \n",
      "2  17.616222  \n",
      "3  17.795942  \n",
      "4  17.807203  \n"
     ]
    }
   ],
   "source": [
    "query_vector=np.random.rand(128).tolist()\n",
    "\n",
    "#Perform similarity search \n",
    "results=table.search(query_vector).limit(5).to_pandas()\n",
    "print(results)"
   ]
  },
  {
   "cell_type": "markdown",
   "metadata": {},
   "source": [
    "Using LanceDB with LangChain for RAG"
   ]
  },
  {
   "cell_type": "code",
   "execution_count": 14,
   "metadata": {},
   "outputs": [],
   "source": [
    "import lancedb \n",
    "from langchain.document_loaders import TextLoader \n",
    "from langchain.embeddings import SentenceTransformerEmbeddings \n",
    "import pandas as pd "
   ]
  },
  {
   "cell_type": "code",
   "execution_count": null,
   "metadata": {},
   "outputs": [],
   "source": [
    "#Initialize lancedb\n",
    "db=lancedb.connect(\"./rag_lancedb\")"
   ]
  },
  {
   "cell_type": "code",
   "execution_count": 17,
   "metadata": {},
   "outputs": [
    {
     "name": "stderr",
     "output_type": "stream",
     "text": [
      "C:\\Users\\thaku\\anaconda3\\envs\\lang_env\\lib\\site-packages\\huggingface_hub\\file_download.py:142: UserWarning: `huggingface_hub` cache-system uses symlinks by default to efficiently store duplicated files but your machine does not support them in C:\\Users\\thaku\\.cache\\huggingface\\hub\\models--sentence-transformers--all-MiniLM-L6-V2. Caching files will still work but in a degraded version that might require more space on your disk. This warning can be disabled by setting the `HF_HUB_DISABLE_SYMLINKS_WARNING` environment variable. For more details, see https://huggingface.co/docs/huggingface_hub/how-to-cache#limitations.\n",
      "To support symlinks on Windows, you either need to activate Developer Mode or to run Python as an administrator. In order to activate developer mode, see this article: https://docs.microsoft.com/en-us/windows/apps/get-started/enable-your-device-for-development\n",
      "  warnings.warn(message)\n"
     ]
    }
   ],
   "source": [
    "#load sample text documents\n",
    "\n",
    "docs=[\n",
    "    \"LanceDB is a powerful vector database for RAG.\",\n",
    "    \"Langchain simplifies working with LLMs.\",\n",
    "    \"Retrieval-Augmented Generation improves chatbot responses.\"\n",
    "]\n",
    "\n",
    "embed_model=SentenceTransformerEmbeddings(model_name=\"all-MiniLM-L6-V2\")\n",
    "data=pd.DataFrame({\n",
    "    \"id\":range(len(docs)),\n",
    "    \"text\":docs,\n",
    "    \"vector\":[embed_model.embed_query(doc) for doc in docs]\n",
    "})"
   ]
  },
  {
   "cell_type": "code",
   "execution_count": 18,
   "metadata": {},
   "outputs": [
    {
     "name": "stdout",
     "output_type": "stream",
     "text": [
      "Documents added to LanceDB!\n"
     ]
    }
   ],
   "source": [
    "#create LanceDB table \n",
    "table=db.create_table(\"rag_table\", data)\n",
    "print(\"Documents added to LanceDB!\")"
   ]
  },
  {
   "cell_type": "markdown",
   "metadata": {},
   "source": [
    "Query Using LanceDB + LangChain"
   ]
  },
  {
   "cell_type": "code",
   "execution_count": 19,
   "metadata": {},
   "outputs": [],
   "source": [
    "from langchain.vectorstores import LanceDB \n",
    "from langchain.chains import RetrievalQA \n",
    "from langchain_community.llms import Ollama \n",
    "from langchain.schema import Document "
   ]
  },
  {
   "cell_type": "code",
   "execution_count": 20,
   "metadata": {},
   "outputs": [
    {
     "name": "stderr",
     "output_type": "stream",
     "text": [
      "C:\\Users\\thaku\\AppData\\Local\\Temp\\ipykernel_1772\\3274388026.py:5: LangChainDeprecationWarning: The class `Ollama` was deprecated in LangChain 0.3.1 and will be removed in 1.0.0. An updated version of the class exists in the :class:`~langchain-ollama package and should be used instead. To use it run `pip install -U :class:`~langchain-ollama` and import as `from :class:`~langchain_ollama import OllamaLLM``.\n",
      "  llm=Ollama(model=\"gemma3\")\n"
     ]
    }
   ],
   "source": [
    "#wrap lancedb for langchain\n",
    "vectorstore=LanceDB(connection=db,table_name=\"rag_table\",embedding=embed_model)\n",
    "\n",
    "#define llm\n",
    "llm=Ollama(model=\"gemma3\")"
   ]
  },
  {
   "cell_type": "code",
   "execution_count": 21,
   "metadata": {},
   "outputs": [],
   "source": [
    "#create rag retriever \n",
    "retriever=vectorstore.as_retriever()"
   ]
  },
  {
   "cell_type": "code",
   "execution_count": 22,
   "metadata": {},
   "outputs": [],
   "source": [
    "#setup QA chain \n",
    "qa_chain=RetrievalQA.from_chain_type(llm,retriever=retriever)"
   ]
  },
  {
   "cell_type": "code",
   "execution_count": 23,
   "metadata": {},
   "outputs": [
    {
     "name": "stderr",
     "output_type": "stream",
     "text": [
      "C:\\Users\\thaku\\AppData\\Local\\Temp\\ipykernel_1772\\2993850210.py:3: LangChainDeprecationWarning: The method `Chain.run` was deprecated in langchain 0.1.0 and will be removed in 1.0. Use :meth:`~invoke` instead.\n",
      "  response=qa_chain.run(query)\n"
     ]
    }
   ],
   "source": [
    "#ask a question\n",
    "query=\"What is LanceDB?\"\n",
    "response=qa_chain.run(query)"
   ]
  },
  {
   "cell_type": "code",
   "execution_count": 24,
   "metadata": {},
   "outputs": [
    {
     "name": "stdout",
     "output_type": "stream",
     "text": [
      "Answer: LanceDB is a powerful vector database for RAG.\n"
     ]
    }
   ],
   "source": [
    "print(\"Answer:\", response)"
   ]
  },
  {
   "cell_type": "code",
   "execution_count": null,
   "metadata": {},
   "outputs": [],
   "source": []
  }
 ],
 "metadata": {
  "kernelspec": {
   "display_name": "Python (lang_env)",
   "language": "python",
   "name": "lang_env"
  }
 },
 "nbformat": 4,
 "nbformat_minor": 2
}
